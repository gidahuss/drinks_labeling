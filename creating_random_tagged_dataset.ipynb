{
 "cells": [
  {
   "cell_type": "code",
   "execution_count": 22,
   "id": "cb8e68e9",
   "metadata": {},
   "outputs": [],
   "source": [
    "import pandas as pd\n",
    "import numpy as np"
   ]
  },
  {
   "cell_type": "code",
   "execution_count": 23,
   "id": "0ef9489d",
   "metadata": {},
   "outputs": [],
   "source": [
    "flavors = pd.read_csv('flavors_beverages.csv')  \n",
    "brands = pd.read_csv(\"brands_soft_drinks.csv\")\n",
    "csd = pd.read_csv(\"carbonated_soft_drinks.csv\")"
   ]
  },
  {
   "cell_type": "code",
   "execution_count": 24,
   "id": "2825068f",
   "metadata": {
    "tags": []
   },
   "outputs": [],
   "source": [
    "flavors_list = ['Acai']  # flavors list initialization(ignore Adai entry) \n",
    "flavors_single = []   # list used to add double worded flavors into multiple single entries to be used later\n",
    "\n",
    "brands_list = []      # same thing for brands\n",
    "brands_single = []\n",
    "\n",
    "for i in flavors.iloc[:,0]:        ## Looping over flavors to populate above list\n",
    "    i_new = i.replace(',','')\n",
    "    i_new = i_new.lower()\n",
    "    wc = len(i.split())\n",
    "    if wc<3:                         ## ignoring 3 worded flavors too complex and barely used in real dataset\n",
    "        flavors_list.append(i_new)\n",
    "        if wc==2:                      ## spopulating flavors single words\n",
    "            temp = i_new.split()\n",
    "            for j in temp:\n",
    "                flavors_single.append(j)\n",
    "                \n",
    "flavors_single = [*set(flavors_single)]       ## Removing duplicates by using a set instead  "
   ]
  },
  {
   "cell_type": "code",
   "execution_count": 25,
   "id": "08ac0a04",
   "metadata": {
    "tags": []
   },
   "outputs": [],
   "source": [
    "\n",
    "## Same process as above but for brands\n",
    "\n",
    "for i in brands.iloc[:,0]:\n",
    "    i_new = i.replace(',','')\n",
    "    i_new = i_new.lower()\n",
    "    brands_list.append(i_new)\n",
    "    wc = len(i.split())\n",
    "    if wc==2:\n",
    "            temp = i_new.split()\n",
    "            for j in temp:\n",
    "                brands_single.append(j)\n",
    "        \n",
    "\n",
    "brands_single= [*set(brands_single)] \n",
    "\n",
    "## below brands are found in real dataset but differ in brands dataset for example we have fanta but not fantas\n",
    "## add as needed and found\n",
    "\n",
    "brands_list.append('fantas')\n",
    "brands_list.append('cola-coke')\n",
    "brands_list.append('dr.brown')\n"
   ]
  },
  {
   "cell_type": "code",
   "execution_count": 26,
   "id": "4bae0f5b",
   "metadata": {
    "tags": []
   },
   "outputs": [],
   "source": [
    "## building rest of vocab\n",
    "\n",
    "# function used to check if word is found in a given list\n",
    "def check(word, list):\n",
    "    if word not in list:\n",
    "        return True\n",
    "    else:\n",
    "        return False\n",
    "        \n",
    "vocab_rest=[]   ## initialize rest of vocab\n",
    "\n",
    "for i in csd.iloc[:,0]:\n",
    "    i_new = i.replace(',','')\n",
    "    i_new = i_new.replace('(','')\n",
    "    i_new = i_new.replace(')','')\n",
    "    i_new = i_new.replace('_',' ')   ## preprocess vocab\n",
    "    i_new = i_new.lower()    \n",
    "    words = i_new.split()\n",
    "    for w in words:           ## check if vocab words belong to brands or flavors to avoid tagging as Outside if so\n",
    "        if (check(w,flavors_list)) and (check(w,brands_list)) and (check(w,flavors_single)) and (check(w,brands_single)):\n",
    "            vocab_rest.append(w)    ## add to list if checks out\n",
    "        \n",
    "vocab_rest = [*set(vocab_rest)]    ## set for no duplicates      \n",
    "    "
   ]
  },
  {
   "cell_type": "code",
   "execution_count": 27,
   "id": "c4d8bc52",
   "metadata": {
    "tags": []
   },
   "outputs": [],
   "source": [
    "# Initializing random dataset\n",
    "random_dataset = []\n",
    "\n",
    "\n",
    "def generate_random_words(a,b,c):\n",
    "    word_qty = np.random.randint(2, size = (3,2))          ## array to check for random words used 6 binary numbers indicating if 0,1 or 2 words is used in beginning, mid and end of sentence\n",
    "    word_ind = np.random.randint(len(a)+1, size= (3,2))  ## actual indexes if numbers end up being used \n",
    "   \n",
    "    brand_qty = np.random.randint(2, size = 2)             # array of 2 binary numbers to indicate if 0,1 or 2 brands used [0,0] no brands used, [1,0] or [0,1] only 1, [1,1] 2 brands used\n",
    "    brand_ind = np.random.randint(len(b)+1, size= 2)    ## array of indexes to be multiplied by above array\n",
    "    \n",
    "    flav_qty = np.random.randint(2, size = 2)           ## same thing for flav\n",
    "    flav_ind = np.random.randint(len(c)+1, size= 2)     # ps the +1 is used to have the 0 index as no value instead of first entry of list\n",
    "    \n",
    "    return word_qty*word_ind, brand_qty*brand_ind, flav_qty*flav_ind  ## return the multiplied arrays\n",
    "\n",
    "def add_brand(ind,exqmple,tags):               ## function used to add brands with tags\n",
    "    if ind>0:                                  ## easpecially useful for double or more worded brands\n",
    "        brand = brands_list[ind-1].split()     # not that necessary otherwise\n",
    "        b_len = len(brand)\n",
    "        example.append(brand[0])\n",
    "        tags.append('B-BRA')\n",
    "        if b_len>1:\n",
    "            for i in range(b_len-1):\n",
    "                example.append(brand[i+1])\n",
    "                tags.append('I-BRA')\n",
    "def add_flav(ind,example,tags):    ## same function as above for flavors\n",
    "    if ind>0:\n",
    "        flav = flavors_list[ind-1].split()\n",
    "        b_len = len(flav)\n",
    "        example.append(flav[0])\n",
    "        tags.append('B-FLA')\n",
    "        if b_len>1:\n",
    "            for i in range(b_len-1):\n",
    "                example.append(flav[i+1])\n",
    "                tags.append('I-FLA')\n",
    "\n",
    "\n",
    "    \n",
    "## main random dataset building function    \n",
    "for i in range(20000):                       ## 20k examples decided\n",
    "    example = []       #initializing arrays at every step to clear [previous entries]\n",
    "    tags = []\n",
    "    random, brands, flavors = generate_random_words(vocab_rest, brands_list, flavors_list)    ## call matrix function\n",
    "    for i in random[0]:                     ## add first 0-2 random words using first row of matrix\n",
    "        if i>0:\n",
    "            example.append(vocab_rest[i-1])      ## add words\n",
    "            tags.append('O')                     # add coresponding tags\n",
    "            \n",
    "    add_brand(brands[0],example,tags)      # add 0-1 brand depending on matrix with tages using above function\n",
    "    add_flav(flavors[0],example,tags)     # same for flavs\n",
    "    \n",
    "    for i in random[1]:                                     # second set of 0-2 random words\n",
    "           if i>0:\n",
    "                example.append(vocab_rest[i-1])\n",
    "                tags.append('O')\n",
    "                \n",
    "    add_brand(brands[1],example,tags)          #second set of brand if not 0\n",
    "    add_flav(flavors[1],example,tags)          # second flavor if not 0\n",
    "    \n",
    "    for i in random[2]:                       # last 0-2 random words\n",
    "        if i>0:\n",
    "            example.append(vocab_rest[i-1])\n",
    "            tags.append('O')\n",
    "            \n",
    "    random_dataset.append([example,tags])   ## add examples and tags to dataset\n",
    "    \n",
    "\n",
    "    \n",
    "    \n",
    "    \n"
   ]
  },
  {
   "cell_type": "code",
   "execution_count": 28,
   "id": "38e890c8",
   "metadata": {
    "tags": []
   },
   "outputs": [],
   "source": [
    "supervised_dataset = pd.DataFrame(random_dataset) # create dataframe out of previous obtained dataset"
   ]
  },
  {
   "cell_type": "code",
   "execution_count": 29,
   "id": "3fdfacff",
   "metadata": {},
   "outputs": [],
   "source": [
    "supervised_dataset.to_csv('Supervised_Tagged_Dataset.csv') # write to csv"
   ]
  },
  {
   "cell_type": "code",
   "execution_count": 30,
   "id": "e6cd0d3f",
   "metadata": {},
   "outputs": [
    {
     "data": {
      "text/plain": [
       "348"
      ]
     },
     "execution_count": 30,
     "metadata": {},
     "output_type": "execute_result"
    }
   ],
   "source": [
    "flavors_list.index('pineapple')\n"
   ]
  },
  {
   "cell_type": "code",
   "execution_count": 35,
   "id": "08ee4f04",
   "metadata": {},
   "outputs": [
    {
     "data": {
      "text/html": [
       "<div>\n",
       "<style scoped>\n",
       "    .dataframe tbody tr th:only-of-type {\n",
       "        vertical-align: middle;\n",
       "    }\n",
       "\n",
       "    .dataframe tbody tr th {\n",
       "        vertical-align: top;\n",
       "    }\n",
       "\n",
       "    .dataframe thead th {\n",
       "        text-align: right;\n",
       "    }\n",
       "</style>\n",
       "<table border=\"1\" class=\"dataframe\">\n",
       "  <thead>\n",
       "    <tr style=\"text-align: right;\">\n",
       "      <th></th>\n",
       "      <th>0</th>\n",
       "      <th>1</th>\n",
       "    </tr>\n",
       "  </thead>\n",
       "  <tbody>\n",
       "    <tr>\n",
       "      <th>0</th>\n",
       "      <td>[12.5o, 12.5, mountian, 24, slrite]</td>\n",
       "      <td>[O, O, O, O, O]</td>\n",
       "    </tr>\n",
       "    <tr>\n",
       "      <th>1</th>\n",
       "      <td>[flamin, appletiser, drink-medium, sangria, se...</td>\n",
       "      <td>[O, B-BRA, O, B-BRA, I-BRA, O, O]</td>\n",
       "    </tr>\n",
       "    <tr>\n",
       "      <th>2</th>\n",
       "      <td>[orangina, graham, marshmallow, dto, powerade,...</td>\n",
       "      <td>[B-BRA, B-FLA, I-FLA, O, B-BRA, O]</td>\n",
       "    </tr>\n",
       "    <tr>\n",
       "      <th>3</th>\n",
       "      <td>[fz, variety, mtdew]</td>\n",
       "      <td>[O, O, O]</td>\n",
       "    </tr>\n",
       "    <tr>\n",
       "      <th>4</th>\n",
       "      <td>[volta, fantas, orange, pure, mountain, dew, k...</td>\n",
       "      <td>[O, B-BRA, B-FLA, O, B-BRA, I-BRA, B-FLA, O, O]</td>\n",
       "    </tr>\n",
       "    <tr>\n",
       "      <th>...</th>\n",
       "      <td>...</td>\n",
       "      <td>...</td>\n",
       "    </tr>\n",
       "    <tr>\n",
       "      <th>19995</th>\n",
       "      <td>[flavor--shakes/coke, fresca, wink]</td>\n",
       "      <td>[O, B-BRA, B-BRA]</td>\n",
       "    </tr>\n",
       "    <tr>\n",
       "      <th>19996</th>\n",
       "      <td>[$1.90, carnberry, rc, cola, butter, cream, co...</td>\n",
       "      <td>[O, O, B-BRA, I-BRA, B-FLA, I-FLA, O, O, B-BRA...</td>\n",
       "    </tr>\n",
       "    <tr>\n",
       "      <th>19997</th>\n",
       "      <td>[rootbeer, almond, chocolate, venom, energy]</td>\n",
       "      <td>[O, B-FLA, I-FLA, B-BRA, I-BRA]</td>\n",
       "    </tr>\n",
       "    <tr>\n",
       "      <th>19998</th>\n",
       "      <td>[coca-cola, grape, (various)]</td>\n",
       "      <td>[B-BRA, B-FLA, I-FLA]</td>\n",
       "    </tr>\n",
       "    <tr>\n",
       "      <th>19999</th>\n",
       "      <td>[m, lesters, mug, root, beer, peach, mangostee...</td>\n",
       "      <td>[O, O, B-BRA, I-BRA, I-BRA, B-FLA, I-FLA, B-BR...</td>\n",
       "    </tr>\n",
       "  </tbody>\n",
       "</table>\n",
       "<p>20000 rows × 2 columns</p>\n",
       "</div>"
      ],
      "text/plain": [
       "                                                       0  \\\n",
       "0                    [12.5o, 12.5, mountian, 24, slrite]   \n",
       "1      [flamin, appletiser, drink-medium, sangria, se...   \n",
       "2      [orangina, graham, marshmallow, dto, powerade,...   \n",
       "3                                   [fz, variety, mtdew]   \n",
       "4      [volta, fantas, orange, pure, mountain, dew, k...   \n",
       "...                                                  ...   \n",
       "19995                [flavor--shakes/coke, fresca, wink]   \n",
       "19996  [$1.90, carnberry, rc, cola, butter, cream, co...   \n",
       "19997       [rootbeer, almond, chocolate, venom, energy]   \n",
       "19998                      [coca-cola, grape, (various)]   \n",
       "19999  [m, lesters, mug, root, beer, peach, mangostee...   \n",
       "\n",
       "                                                       1  \n",
       "0                                        [O, O, O, O, O]  \n",
       "1                      [O, B-BRA, O, B-BRA, I-BRA, O, O]  \n",
       "2                     [B-BRA, B-FLA, I-FLA, O, B-BRA, O]  \n",
       "3                                              [O, O, O]  \n",
       "4        [O, B-BRA, B-FLA, O, B-BRA, I-BRA, B-FLA, O, O]  \n",
       "...                                                  ...  \n",
       "19995                                  [O, B-BRA, B-BRA]  \n",
       "19996  [O, O, B-BRA, I-BRA, B-FLA, I-FLA, O, O, B-BRA...  \n",
       "19997                    [O, B-FLA, I-FLA, B-BRA, I-BRA]  \n",
       "19998                              [B-BRA, B-FLA, I-FLA]  \n",
       "19999  [O, O, B-BRA, I-BRA, I-BRA, B-FLA, I-FLA, B-BR...  \n",
       "\n",
       "[20000 rows x 2 columns]"
      ]
     },
     "execution_count": 35,
     "metadata": {},
     "output_type": "execute_result"
    }
   ],
   "source": [
    "#displaying the tagged dataset \n",
    "supervised_dataset"
   ]
  },
  {
   "cell_type": "code",
   "execution_count": null,
   "id": "d433ddb3",
   "metadata": {},
   "outputs": [],
   "source": []
  },
  {
   "cell_type": "code",
   "execution_count": null,
   "id": "96e0da47",
   "metadata": {},
   "outputs": [],
   "source": []
  }
 ],
 "metadata": {
  "kernelspec": {
   "display_name": "Python 3 (ipykernel)",
   "language": "python",
   "name": "python3"
  },
  "language_info": {
   "codemirror_mode": {
    "name": "ipython",
    "version": 3
   },
   "file_extension": ".py",
   "mimetype": "text/x-python",
   "name": "python",
   "nbconvert_exporter": "python",
   "pygments_lexer": "ipython3",
   "version": "3.10.6"
  },
  "varInspector": {
   "cols": {
    "lenName": 16,
    "lenType": 16,
    "lenVar": 40
   },
   "kernels_config": {
    "python": {
     "delete_cmd_postfix": "",
     "delete_cmd_prefix": "del ",
     "library": "var_list.py",
     "varRefreshCmd": "print(var_dic_list())"
    },
    "r": {
     "delete_cmd_postfix": ") ",
     "delete_cmd_prefix": "rm(",
     "library": "var_list.r",
     "varRefreshCmd": "cat(var_dic_list()) "
    }
   },
   "types_to_exclude": [
    "module",
    "function",
    "builtin_function_or_method",
    "instance",
    "_Feature"
   ],
   "window_display": false
  }
 },
 "nbformat": 4,
 "nbformat_minor": 5
}
