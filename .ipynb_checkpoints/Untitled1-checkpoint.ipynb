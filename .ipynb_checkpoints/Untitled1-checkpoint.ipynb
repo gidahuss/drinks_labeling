{
 "cells": [
  {
   "cell_type": "code",
   "execution_count": 61,
   "id": "131211a5-3a59-4e35-83a7-f2a7c4772441",
   "metadata": {},
   "outputs": [],
   "source": [
    "import pandas as pd\n",
    "import numpy as np\n",
    "from nltk.tokenize import word_tokenize\n",
    "import string\n",
    "import spacy\n",
    "from spacy.util import minibatch, compounding\n",
    "from spacy.training import Example\n",
    "from spacy.tokens import Doc321\n",
    "\n",
    "nlp = spacy.load(\"en_core_web_sm\")"
   ]
  },
  {
   "cell_type": "code",
   "execution_count": 55,
   "id": "eafec035-4cf9-45b3-9ff7-3122a1bd0895",
   "metadata": {},
   "outputs": [],
   "source": [
    "# doc = nlp(\"Laura flew to Silicon Valley.\")\n",
    "# gold_dict = {\"entities\": [\"U-PERS\", \"O\", \"O\", \"B-LOC\", \"L-LOC\"]}\n",
    "# example = Example.from_dict(doc, gold_dict)\n",
    "\n",
    "# # Training data for an entity recognizer (option 2)\n",
    "# doc = nlp(\"Laura flew to Silicon Valley.\")\n",
    "# gold_dict = {\"entities\": [(0, 5, \"PERSON\"), (14, 28, \"LOC\")]}\n",
    "# example = Example.from_dict(doc, gold_dict)\n",
    "\n",
    "\n",
    "# pred_words = [\"Apply\", \"some\", \"sunscreen\"]\n",
    "# pred_spaces = [True, True, False]\n",
    "# gold_words = [\"Apply\", \"some\", \"sun\", \"screen\"]\n",
    "# gold_spaces = [True, True, False, False]\n",
    "# gold_tags = [\"VERB\", \"DET\", \"NOUN\", \"NOUN\"]\n",
    "# predicted = Doc(nlp.vocab, words=pred_words, spaces=pred_spaces)\n",
    "# reference = Doc(nlp.vocab, words=gold_words, spaces=gold_spaces, tags=gold_tags)\n",
    "# example = Example(predicted, reference)"
   ]
  },
  {
   "cell_type": "code",
   "execution_count": 50,
   "id": "7b97ffe9-49ca-43de-9532-9a16420017c8",
   "metadata": {},
   "outputs": [],
   "source": [
    "tagged_dataset = pd.read_csv('supervised_tagged_dataset.csv')"
   ]
  },
  {
   "cell_type": "code",
   "execution_count": 51,
   "id": "8f5f1d9a-83ee-465f-a52d-4fb98d3a0298",
   "metadata": {},
   "outputs": [],
   "source": [
    "tagged_dataset.head(5)\n",
    "tagged_data = tagged_dataset.drop(columns = {'Unnamed: 0'})"
   ]
  },
  {
   "cell_type": "code",
   "execution_count": 52,
   "id": "2a7ec9ff-bffc-4969-97da-8b3c437bb7da",
   "metadata": {},
   "outputs": [],
   "source": [
    "\n",
    "chars = [ \"'\", \",\"]\n",
    "tagged_data.rename(columns = {'0':'list', '1': 'tags'}, inplace = True)\n",
    "tagged_data['title'] = [text.replace( \"'\", '').replace(',','') for text in tagged_data.list]\n"
   ]
  },
  {
   "cell_type": "code",
   "execution_count": 66,
   "id": "677a9042-f01a-41ad-8a23-fbcaf57f3760",
   "metadata": {},
   "outputs": [
    {
     "ename": "IndentationError",
     "evalue": "unexpected indent (3849379165.py, line 6)",
     "output_type": "error",
     "traceback": [
      "\u001b[0;36m  Cell \u001b[0;32mIn [66], line 6\u001b[0;36m\u001b[0m\n\u001b[0;31m    TRAIN_DATA.append(example)\u001b[0m\n\u001b[0m    ^\u001b[0m\n\u001b[0;31mIndentationError\u001b[0m\u001b[0;31m:\u001b[0m unexpected indent\n"
     ]
    }
   ],
   "source": [
    "TRAIN_DATA = []\n",
    "for index, row in tagged_data.iterrows():\n",
    "    doc = nlp(row.title)\n",
    "    gold_dict = {'entities': row.tags}\n",
    "    example = Example.from_dict(doc, gold_dict)\n",
    "    TRAIN_DATA.append(example)\n",
    "    \n",
    "    "
   ]
  },
  {
   "cell_type": "markdown",
   "id": "840d528f-af4f-405c-b9cb-7293a7bde44f",
   "metadata": {},
   "source": [
    "#### tagged_dataset"
   ]
  },
  {
   "cell_type": "code",
   "execution_count": null,
   "id": "fe96fb36-502e-47b6-9b52-534d0536f564",
   "metadata": {},
   "outputs": [],
   "source": []
  }
 ],
 "metadata": {
  "kernelspec": {
   "display_name": "Python 3 (ipykernel)",
   "language": "python",
   "name": "python3"
  },
  "language_info": {
   "codemirror_mode": {
    "name": "ipython",
    "version": 3
   },
   "file_extension": ".py",
   "mimetype": "text/x-python",
   "name": "python",
   "nbconvert_exporter": "python",
   "pygments_lexer": "ipython3",
   "version": "3.10.6"
  }
 },
 "nbformat": 4,
 "nbformat_minor": 5
}
