{
 "cells": [
  {
   "cell_type": "code",
   "execution_count": 22,
   "id": "3eef9337",
   "metadata": {},
   "outputs": [],
   "source": [
    "import pandas as pd\n",
    "import numpy as np"
   ]
  },
  {
   "cell_type": "code",
   "execution_count": 23,
   "id": "48e1175c",
   "metadata": {},
   "outputs": [],
   "source": [
    "flavors = pd.read_csv('flavors_beverages.csv')  \n",
    "brands = pd.read_csv(\"brands_soft_drinks.csv\")\n",
    "csd = pd.read_csv(\"carbonated_soft_drinks.csv\")"
   ]
  },
  {
   "cell_type": "code",
   "execution_count": 24,
   "id": "7a8e2f34",
   "metadata": {
    "tags": []
   },
   "outputs": [],
   "source": [
    "flavors_list = ['Acai']  # flavors list initialization(ignore Adai entry) \n",
    "flavors_single = []   # list used to add double worded flavors into multiple single entries to be used later\n",
    "\n",
    "brands_list = []      # same thing for brands\n",
    "brands_single = []\n",
    "\n",
    "for i in flavors.iloc[:,0]:        ## Looping over flavors to populate above list\n",
    "    i_new = i.replace(',','')\n",
    "    i_new = i_new.lower()\n",
    "    wc = len(i.split())\n",
    "    if wc<3:                         ## ignoring 3 worded flavors too complex and barely used in real dataset\n",
    "        flavors_list.append(i_new)\n",
    "        if wc==2:                      ## spopulating flavors single words\n",
    "            temp = i_new.split()\n",
    "            for j in temp:\n",
    "                flavors_single.append(j)\n",
    "                \n",
    "flavors_single = [*set(flavors_single)]       ## Removing duplicates by using a set instead  "
   ]
  },
  {
   "cell_type": "code",
   "execution_count": 25,
   "id": "0fd1e619",
   "metadata": {
    "tags": []
   },
   "outputs": [],
   "source": [
    "\n",
    "## Same process as above but for brands\n",
    "\n",
    "for i in brands.iloc[:,0]:\n",
    "    i_new = i.replace(',','')\n",
    "    i_new = i_new.lower()\n",
    "    brands_list.append(i_new)\n",
    "    wc = len(i.split())\n",
    "    if wc==2:\n",
    "            temp = i_new.split()\n",
    "            for j in temp:\n",
    "                brands_single.append(j)\n",
    "        \n",
    "\n",
    "brands_single= [*set(brands_single)] \n",
    "\n",
    "## below brands are found in real dataset but differ in brands dataset for example we have fanta but not fantas\n",
    "## add as needed and found\n",
    "\n",
    "brands_list.append('fantas')\n",
    "brands_list.append('cola-coke')\n",
    "brands_list.append('dr.brown')\n"
   ]
  },
  {
   "cell_type": "code",
   "execution_count": 26,
   "id": "e3defaba",
   "metadata": {
    "tags": []
   },
   "outputs": [],
   "source": [
    "## building rest of vocab\n",
    "\n",
    "# function used to check if word is found in a given list\n",
    "def check(word, list):\n",
    "    if word not in list:\n",
    "        return True\n",
    "    else:\n",
    "        return False\n",
    "        \n",
    "vocab_rest=[]   ## initialize rest of vocab\n",
    "\n",
    "for i in csd.iloc[:,0]:\n",
    "    i_new = i.replace(',','')\n",
    "    i_new = i_new.replace('(','')\n",
    "    i_new = i_new.replace(')','')\n",
    "    i_new = i_new.replace('_',' ')   ## preprocess vocab\n",
    "    i_new = i_new.lower()    \n",
    "    words = i_new.split()\n",
    "    for w in words:           ## check if vocab words belong to brands or flavors to avoid tagging as Outside if so\n",
    "        if (check(w,flavors_list)) and (check(w,brands_list)) and (check(w,flavors_single)) and (check(w,brands_single)):\n",
    "            vocab_rest.append(w)    ## add to list if checks out\n",
    "        \n",
    "vocab_rest = [*set(vocab_rest)]    ## set for no duplicates      \n",
    "    "
   ]
  },
  {
   "cell_type": "code",
   "execution_count": 27,
   "id": "a077a8cd",
   "metadata": {
    "tags": []
   },
   "outputs": [],
   "source": [
    "# Initializing random dataset\n",
    "random_dataset = []\n",
    "\n",
    "\n",
    "def generate_random_words(a,b,c):\n",
    "    word_qty = np.random.randint(2, size = (3,2))          ## array to check for random words used 6 binary numbers indicating if 0,1 or 2 words is used in beginning, mid and end of sentence\n",
    "    word_ind = np.random.randint(len(a)+1, size= (3,2))  ## actual indexes if numbers end up being used \n",
    "    brand_qty = np.random.randint(2, size = 2)             # array of 2 binary numbers to indicate if 0,1 or 2 brands used [0,0] no brands used, [1,0] or [0,1] only 1, [1,1] 2 brands used\n",
    "    brand_ind = np.random.randint(len(b)+1, size= 2)    ## array of indexes to be multiplied by above array\n",
    "    flav_qty = np.random.randint(2, size = 2)           ## same thing for flav\n",
    "    flav_ind = np.random.randint(len(c)+1, size= 2)     # ps the +1 is used to have the 0 index as no value instead of first entry of list\n",
    "    \n",
    "    return word_qty*word_ind, brand_qty*brand_ind, flav_qty*flav_ind  ## return the multiplied arrays\n",
    "\n",
    "def add_brand(ind,exqmple,tags):               ## function used to add brands with tags\n",
    "    if ind>0:                                  ## easpecially useful for double or more worded brands\n",
    "        brand = brands_list[ind-1].split()     # not that necessary otherwise\n",
    "        b_len = len(brand)\n",
    "        example.append(brand[0])\n",
    "        tags.append('B-BRA')\n",
    "        if b_len>1:\n",
    "            for i in range(b_len-1):\n",
    "                example.append(brand[i+1])\n",
    "                tags.append('I-BRA')\n",
    "def add_flav(ind,example,tags):    ## same function as above for flavors\n",
    "    if ind>0:\n",
    "        flav = flavors_list[ind-1].split()\n",
    "        b_len = len(flav)\n",
    "        example.append(flav[0])\n",
    "        tags.append('B-FLA')\n",
    "        if b_len>1:\n",
    "            for i in range(b_len-1):\n",
    "                example.append(flav[i+1])\n",
    "                tags.append('I-FLA')\n",
    "\n",
    "\n",
    "    \n",
    "## main random dataset building function    \n",
    "for i in range(20000):                       ## 20k examples decided\n",
    "    example = []       #initializing arrays at every step to clear [previous entries\n",
    "    tags = []\n",
    "    random, brands, flavors = generate_random_words(vocab_rest, brands_list, flavors_list)    ## call matrix function\n",
    "    for i in random[0]:                     ## add first 0-2 random words using first row of matrix\n",
    "        if i>0:\n",
    "            example.append(vocab_rest[i-1])      ## add words\n",
    "            tags.append('O')                     # add coresponding tags\n",
    "            \n",
    "    add_brand(brands[0],example,tags)      # add 0-1 brand depending on matrix with tages using above function\n",
    "    add_flav(flavors[0],example,tags)     # same for flavs\n",
    "    \n",
    "    for i in random[1]:                                     # second set of 0-2 random words\n",
    "           if i>0:\n",
    "                example.append(vocab_rest[i-1])\n",
    "                tags.append('O')\n",
    "                \n",
    "    add_brand(brands[1],example,tags)          #second set of brand if not 0\n",
    "    add_flav(flavors[1],example,tags)          # second flavor if not 0\n",
    "    \n",
    "    for i in random[2]:                       # last 0-2 random words\n",
    "        if i>0:\n",
    "            example.append(vocab_rest[i-1])\n",
    "            tags.append('O')\n",
    "            \n",
    "    random_dataset.append([example,tags])   ## add examples and tags to dataset\n",
    "    \n",
    "\n",
    "    \n",
    "    \n",
    "    \n"
   ]
  },
  {
   "cell_type": "code",
   "execution_count": 28,
   "id": "8346ae17",
   "metadata": {
    "tags": []
   },
   "outputs": [],
   "source": [
    "supervised_dataset = pd.DataFrame(random_dataset) # create dataframe out of previous obtained dataset"
   ]
  },
  {
   "cell_type": "code",
   "execution_count": 29,
   "id": "4c3edcce",
   "metadata": {},
   "outputs": [],
   "source": [
    "supervised_dataset.to_csv('Supervised_Tagged_Dataset.csv') # write to csv"
   ]
  },
  {
   "cell_type": "code",
   "execution_count": 30,
   "id": "81dae77d",
   "metadata": {},
   "outputs": [
    {
     "data": {
      "text/plain": [
       "348"
      ]
     },
     "execution_count": 30,
     "metadata": {},
     "output_type": "execute_result"
    }
   ],
   "source": [
    "flavors_list.index('pineapple')\n"
   ]
  },
  {
   "cell_type": "code",
   "execution_count": null,
   "id": "e18a86ac",
   "metadata": {},
   "outputs": [],
   "source": []
  },
  {
   "cell_type": "code",
   "execution_count": 31,
   "id": "194e657f",
   "metadata": {},
   "outputs": [
    {
     "ename": "NameError",
     "evalue": "name 'flav_qty' is not defined",
     "output_type": "error",
     "traceback": [
      "\u001b[0;31m---------------------------------------------------------------------------\u001b[0m",
      "\u001b[0;31mNameError\u001b[0m                                 Traceback (most recent call last)",
      "Cell \u001b[0;32mIn [31], line 1\u001b[0m\n\u001b[0;32m----> 1\u001b[0m \u001b[43mflav_qty\u001b[49m\u001b[38;5;241m*\u001b[39mflav_ind\n",
      "\u001b[0;31mNameError\u001b[0m: name 'flav_qty' is not defined"
     ]
    }
   ],
   "source": [
    "flav_qty*flav_ind"
   ]
  },
  {
   "cell_type": "code",
   "execution_count": null,
   "id": "458a100e",
   "metadata": {},
   "outputs": [],
   "source": []
  },
  {
   "cell_type": "code",
   "execution_count": null,
   "id": "76963792",
   "metadata": {},
   "outputs": [],
   "source": []
  }
 ],
 "metadata": {
  "kernelspec": {
   "display_name": "Python 3 (ipykernel)",
   "language": "python",
   "name": "python3"
  },
  "language_info": {
   "codemirror_mode": {
    "name": "ipython",
    "version": 3
   },
   "file_extension": ".py",
   "mimetype": "text/x-python",
   "name": "python",
   "nbconvert_exporter": "python",
   "pygments_lexer": "ipython3",
   "version": "3.10.6"
  },
  "varInspector": {
   "cols": {
    "lenName": 16,
    "lenType": 16,
    "lenVar": 40
   },
   "kernels_config": {
    "python": {
     "delete_cmd_postfix": "",
     "delete_cmd_prefix": "del ",
     "library": "var_list.py",
     "varRefreshCmd": "print(var_dic_list())"
    },
    "r": {
     "delete_cmd_postfix": ") ",
     "delete_cmd_prefix": "rm(",
     "library": "var_list.r",
     "varRefreshCmd": "cat(var_dic_list()) "
    }
   },
   "types_to_exclude": [
    "module",
    "function",
    "builtin_function_or_method",
    "instance",
    "_Feature"
   ],
   "window_display": false
  }
 },
 "nbformat": 4,
 "nbformat_minor": 5
}
